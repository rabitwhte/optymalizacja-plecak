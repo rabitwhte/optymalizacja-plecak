{
 "cells": [
  {
   "cell_type": "code",
   "execution_count": 26,
   "metadata": {},
   "outputs": [
    {
     "name": "stdout",
     "output_type": "stream",
     "text": [
      "9×2 DataFrames.DataFrame\n",
      "│ Row │ Przedmiot      │ Waga  │\n",
      "├─────┼────────────────┼───────┤\n",
      "│ 1   │ Masa calkowita │ 7.885 │\n",
      "│ 2   │ Polski         │ 1.676 │\n",
      "│ 3   │ Przyroda       │ 1.214 │\n",
      "│ 4   │ Technika       │ 0.756 │\n",
      "│ 5   │ Angielski      │ 0.715 │\n",
      "│ 6   │ Matematyka     │ 0.697 │\n",
      "│ 7   │ Religia        │ 0.568 │\n",
      "│ 8   │ Historia       │ 0.484 │\n",
      "│ 9   │ Muzyka         │ 0.36  │"
     ]
    },
    {
     "data": {
      "text/plain": [
       "CSV.Sink{Void,DataType}(    CSV.Options:\n",
       "        delim: ','\n",
       "        quotechar: '\"'\n",
       "        escapechar: '\\\\'\n",
       "        missingstring: \"\"\n",
       "        dateformat: nothing\n",
       "        decimal: '.'\n",
       "        truestring: 'true'\n",
       "        falsestring: 'false'\n",
       "        internstrings: true, IOBuffer(data=UInt8[...], readable=true, writable=true, seekable=true, append=false, size=0, maxsize=Inf, ptr=1, mark=-1), \"results/max_day.csv\", 15, true, String[\"Przedmiot\", \"Waga\"], 2, false, Val{false})"
      ]
     },
     "execution_count": 26,
     "metadata": {},
     "output_type": "execute_result"
    }
   ],
   "source": [
    "using CSV\n",
    "using DataFrames\n",
    "\n",
    "### Input\n",
    "max_classes_per_day = 8\n",
    "\n",
    "### Prepare input data\n",
    "data_mass = dropmissing(CSV.read(\"input_data/plecak.csv\"))\n",
    "data_plan = CSV.read(\"input_data/plan.csv\")\n",
    "\n",
    "plan_summary = by(data_plan, [:Przedmiot], plan_summary -> size(plan_summary, 1))\n",
    "mass_summary = by(data_mass, [:Przedmiot], mass_summary -> sum(mass_summary[:Waga]))\n",
    "rename!(mass_summary, :x1 => :Waga)\n",
    "\n",
    "przybory_mass = mass_summary[mass_summary[:Przedmiot] .== \"Przybory\", :][:Waga] / 1e3\n",
    "\n",
    "mass_summary = mass_summary[mass_summary[:Przedmiot] .!= \"Przybory\", :]\n",
    "sort!(mass_summary,[order(:Waga,rev=true)])\n",
    "\n",
    "mass_summary = mass_summary[1:max_classes_per_day,:]\n",
    "mass_summary[:Waga] = mass_summary[:Waga]/1e3\n",
    "total_mass = sum(mass_summary[:Waga]) + przybory_mass\n",
    "\n",
    "push!(mass_summary,[\"Masa calkowita\",total_mass[1]])\n",
    "sort!(mass_summary,[order(:Waga,rev=true)])\n",
    "\n",
    "print(mass_summary)\n",
    "\n",
    "CSV.write(\"results/max_day.csv\",mass_summary)"
   ]
  }
 ],
 "metadata": {
  "kernelspec": {
   "display_name": "Julia 0.6.4",
   "language": "julia",
   "name": "julia-0.6"
  },
  "language_info": {
   "file_extension": ".jl",
   "mimetype": "application/julia",
   "name": "julia",
   "version": "0.6.4"
  }
 },
 "nbformat": 4,
 "nbformat_minor": 2
}
